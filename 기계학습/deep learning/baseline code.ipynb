{
 "cells": [
  {
   "cell_type": "code",
   "execution_count": null,
   "id": "09a7a13b",
   "metadata": {},
   "outputs": [],
   "source": [
    "%pip install tensorflow"
   ]
  },
  {
   "cell_type": "code",
   "execution_count": null,
   "id": "81dc0acf",
   "metadata": {
    "execution": {
     "iopub.execute_input": "2023-05-09T08:06:43.761940Z",
     "iopub.status.busy": "2023-05-09T08:06:43.761448Z",
     "iopub.status.idle": "2023-05-09T08:06:53.392557Z",
     "shell.execute_reply": "2023-05-09T08:06:53.391368Z"
    },
    "papermill": {
     "duration": 9.642369,
     "end_time": "2023-05-09T08:06:53.395377",
     "exception": false,
     "start_time": "2023-05-09T08:06:43.753008",
     "status": "completed"
    },
    "tags": []
   },
   "outputs": [],
   "source": [
    "import pandas as pd\n",
    "import numpy as np\n",
    "import os\n",
    "\n",
    "import matplotlib.pyplot as plt\n",
    "import seaborn as sns\n",
    "import shutil\n",
    "import glob\n",
    "import seaborn as sns\n",
    "from  tensorflow.keras.preprocessing import image\n",
    "from tensorflow.keras.preprocessing.image import ImageDataGenerator\n",
    "\n",
    "from  tensorflow.keras.preprocessing import image"
   ]
  },
  {
   "cell_type": "code",
   "execution_count": null,
   "id": "1222691a",
   "metadata": {},
   "outputs": [],
   "source": [
    "%pip install --upgrade tensorflow"
   ]
  },
  {
   "cell_type": "code",
   "execution_count": null,
   "id": "83e598ca",
   "metadata": {
    "execution": {
     "iopub.execute_input": "2023-05-09T08:06:53.410761Z",
     "iopub.status.busy": "2023-05-09T08:06:53.410038Z",
     "iopub.status.idle": "2023-05-09T08:06:53.435756Z",
     "shell.execute_reply": "2023-05-09T08:06:53.434840Z"
    },
    "papermill": {
     "duration": 0.035714,
     "end_time": "2023-05-09T08:06:53.438106",
     "exception": false,
     "start_time": "2023-05-09T08:06:53.402392",
     "status": "completed"
    },
    "tags": []
   },
   "outputs": [],
   "source": [
    "base_path = '/kaggle/input/2023cnu-deeplearning'\n",
    "\n",
    "train_df = pd.read_csv(os.path.join(base_path, 'train.csv'))"
   ]
  },
  {
   "cell_type": "markdown",
   "id": "768dd863",
   "metadata": {
    "papermill": {
     "duration": 0.006393,
     "end_time": "2023-05-09T08:06:53.451315",
     "exception": false,
     "start_time": "2023-05-09T08:06:53.444922",
     "status": "completed"
    },
    "tags": []
   },
   "source": [
    "# EDA"
   ]
  },
  {
   "cell_type": "code",
   "execution_count": null,
   "id": "0efc092e",
   "metadata": {
    "execution": {
     "iopub.execute_input": "2023-05-09T08:06:53.466368Z",
     "iopub.status.busy": "2023-05-09T08:06:53.465541Z",
     "iopub.status.idle": "2023-05-09T08:06:53.484567Z",
     "shell.execute_reply": "2023-05-09T08:06:53.483548Z"
    },
    "papermill": {
     "duration": 0.028725,
     "end_time": "2023-05-09T08:06:53.486690",
     "exception": false,
     "start_time": "2023-05-09T08:06:53.457965",
     "status": "completed"
    },
    "tags": []
   },
   "outputs": [],
   "source": [
    "train_df.label.value_counts()"
   ]
  },
  {
   "cell_type": "code",
   "execution_count": null,
   "id": "2b809cf9",
   "metadata": {
    "execution": {
     "iopub.execute_input": "2023-05-09T08:06:53.502194Z",
     "iopub.status.busy": "2023-05-09T08:06:53.501570Z",
     "iopub.status.idle": "2023-05-09T08:06:53.740450Z",
     "shell.execute_reply": "2023-05-09T08:06:53.739317Z"
    },
    "papermill": {
     "duration": 0.249475,
     "end_time": "2023-05-09T08:06:53.742848",
     "exception": false,
     "start_time": "2023-05-09T08:06:53.493373",
     "status": "completed"
    },
    "tags": []
   },
   "outputs": [],
   "source": [
    "# 데이터 분포\n",
    "\n",
    "figure = plt.figure(figsize=(5, 5))\n",
    "ax = figure.add_subplot()\n",
    "sns.countplot(data=train_df, x='label', ax=ax)\n",
    "\n",
    "for patch in ax.patches:\n",
    "    label_x = patch.get_x() + patch.get_width()/2\n",
    "    label_y = patch.get_y() + patch.get_height()/2\n",
    "    text_msg = str(int(patch.get_height())) \n",
    "    ax.text(label_x, label_y, text_msg, horizontalalignment='center', verticalalignment='center')\n",
    "    \n",
    "plt.show()"
   ]
  },
  {
   "cell_type": "code",
   "execution_count": null,
   "id": "ea2af874",
   "metadata": {
    "execution": {
     "iopub.execute_input": "2023-05-09T08:06:53.759224Z",
     "iopub.status.busy": "2023-05-09T08:06:53.758787Z",
     "iopub.status.idle": "2023-05-09T08:06:56.723267Z",
     "shell.execute_reply": "2023-05-09T08:06:56.721655Z"
    },
    "papermill": {
     "duration": 3.01827,
     "end_time": "2023-05-09T08:06:56.768472",
     "exception": false,
     "start_time": "2023-05-09T08:06:53.750202",
     "status": "completed"
    },
    "tags": []
   },
   "outputs": [],
   "source": [
    "# 이미지 시각화\n",
    "train_path = base_path +'/train'\n",
    "\n",
    "plt.figure(figsize=(20,20))\n",
    "index = np.random.randint(len(train_df), size=25)\n",
    "for i in range(25):\n",
    "    label = train_df['label'][index[i]]\n",
    "    path_img = train_df['image'][index[i]]\n",
    "    path_img = os.path.join(train_path, os.path.join(label, path_img))\n",
    "    \n",
    "    img = image.load_img(path_img,target_size=(224,224))\n",
    "    img_tensor = image.img_to_array(img)\n",
    "    img_tensor = np.expand_dims(img_tensor, axis=0)\n",
    "    img_tensor /= 255.\n",
    "    plt.subplot(5,5,i+1)\n",
    "    plt.xticks([])\n",
    "    plt.yticks([])\n",
    "    plt.grid(False)\n",
    "    plt.imshow(img, cmap=plt.cm.binary)\n",
    "    plt.xlabel(label)\n",
    "plt.show()"
   ]
  },
  {
   "cell_type": "markdown",
   "id": "1daca06e",
   "metadata": {
    "papermill": {
     "duration": 0.059017,
     "end_time": "2023-05-09T08:06:56.889826",
     "exception": false,
     "start_time": "2023-05-09T08:06:56.830809",
     "status": "completed"
    },
    "tags": []
   },
   "source": [
    "# 전처리"
   ]
  },
  {
   "cell_type": "code",
   "execution_count": null,
   "id": "0260fd12",
   "metadata": {
    "execution": {
     "iopub.execute_input": "2023-05-09T08:06:57.017245Z",
     "iopub.status.busy": "2023-05-09T08:06:57.016295Z",
     "iopub.status.idle": "2023-05-09T08:06:57.304885Z",
     "shell.execute_reply": "2023-05-09T08:06:57.303681Z"
    },
    "papermill": {
     "duration": 0.361221,
     "end_time": "2023-05-09T08:06:57.307720",
     "exception": false,
     "start_time": "2023-05-09T08:06:56.946499",
     "status": "completed"
    },
    "tags": []
   },
   "outputs": [],
   "source": [
    "from sklearn.model_selection import train_test_split\n",
    "\n",
    "train, valid = train_test_split(train_df, test_size=0.25, stratify=train_df['label'])\n",
    "train = train.reset_index(drop=True)\n",
    "valid = valid.reset_index(drop=True)"
   ]
  },
  {
   "cell_type": "code",
   "execution_count": null,
   "id": "2224e6b8",
   "metadata": {
    "execution": {
     "iopub.execute_input": "2023-05-09T08:06:57.431614Z",
     "iopub.status.busy": "2023-05-09T08:06:57.431141Z",
     "iopub.status.idle": "2023-05-09T08:06:57.457870Z",
     "shell.execute_reply": "2023-05-09T08:06:57.456823Z"
    },
    "papermill": {
     "duration": 0.091444,
     "end_time": "2023-05-09T08:06:57.460561",
     "exception": false,
     "start_time": "2023-05-09T08:06:57.369117",
     "status": "completed"
    },
    "tags": []
   },
   "outputs": [],
   "source": [
    "train['image'] = train['image'].map(lambda x: x.split('_')[0]+'/'+x)\n",
    "train.head(10)"
   ]
  },
  {
   "cell_type": "code",
   "execution_count": null,
   "id": "6a463d19",
   "metadata": {
    "execution": {
     "iopub.execute_input": "2023-05-09T08:06:57.585099Z",
     "iopub.status.busy": "2023-05-09T08:06:57.584664Z",
     "iopub.status.idle": "2023-05-09T08:06:57.597172Z",
     "shell.execute_reply": "2023-05-09T08:06:57.595996Z"
    },
    "papermill": {
     "duration": 0.077556,
     "end_time": "2023-05-09T08:06:57.600342",
     "exception": false,
     "start_time": "2023-05-09T08:06:57.522786",
     "status": "completed"
    },
    "tags": []
   },
   "outputs": [],
   "source": [
    "valid['image'] = valid['image'].map(lambda x: x.split('_')[0]+'/'+x)\n",
    "valid.head(10)"
   ]
  },
  {
   "cell_type": "code",
   "execution_count": null,
   "id": "06f0ec20",
   "metadata": {
    "execution": {
     "iopub.execute_input": "2023-05-09T08:06:57.723171Z",
     "iopub.status.busy": "2023-05-09T08:06:57.722235Z",
     "iopub.status.idle": "2023-05-09T08:06:58.132522Z",
     "shell.execute_reply": "2023-05-09T08:06:58.131462Z"
    },
    "papermill": {
     "duration": 0.473129,
     "end_time": "2023-05-09T08:06:58.134818",
     "exception": false,
     "start_time": "2023-05-09T08:06:57.661689",
     "status": "completed"
    },
    "tags": []
   },
   "outputs": [],
   "source": [
    "# 분할 후 데이터 분포\n",
    "\n",
    "figure, ax = plt.subplots(1, 2, figsize=(13,5))\n",
    "sns.countplot(data=train, x='label', ax=ax[0])\n",
    "sns.countplot(data=valid, x='label', ax=ax[1])\n",
    "\n",
    "ax[0].set_title('train')\n",
    "for patch in ax[0].patches:\n",
    "    label_x = patch.get_x() + patch.get_width()/2\n",
    "    label_y = patch.get_y() + patch.get_height()/2\n",
    "    text_msg = str(int(patch.get_height())) \n",
    "    ax[0].text(label_x, label_y, text_msg, horizontalalignment='center', verticalalignment='center')\n",
    "\n",
    "ax[1].set_title('valid')\n",
    "for patch in ax[1].patches:\n",
    "    label_x = patch.get_x() + patch.get_width()/2\n",
    "    label_y = patch.get_y() + patch.get_height()/2\n",
    "    text_msg = str(int(patch.get_height())) \n",
    "    ax[1].text(label_x, label_y, text_msg, horizontalalignment='center', verticalalignment='center')\n",
    "\n",
    "plt.show()"
   ]
  },
  {
   "cell_type": "code",
   "execution_count": null,
   "id": "849a74d5",
   "metadata": {
    "execution": {
     "iopub.execute_input": "2023-05-09T08:06:58.256729Z",
     "iopub.status.busy": "2023-05-09T08:06:58.256149Z",
     "iopub.status.idle": "2023-05-09T08:07:03.782568Z",
     "shell.execute_reply": "2023-05-09T08:07:03.781449Z"
    },
    "papermill": {
     "duration": 5.5915,
     "end_time": "2023-05-09T08:07:03.785156",
     "exception": false,
     "start_time": "2023-05-09T08:06:58.193656",
     "status": "completed"
    },
    "tags": []
   },
   "outputs": [],
   "source": [
    "# 데이터 증강\n",
    "\n",
    "height, width, channel = (224, 224, 3)\n",
    "batch_size = 32\n",
    "labels = ['sunny', 'snow', 'rain', 'dust', 'fog']\n",
    "\n",
    "train_datagen= ImageDataGenerator(rescale=1./255,\n",
    "                              rotation_range=20,\n",
    "                              width_shift_range=0.05,\n",
    "                              height_shift_range=0.05,\n",
    "                              zoom_range=[0.7, 1],\n",
    "                              horizontal_flip=True,\n",
    "                              vertical_flip=False,\n",
    "                              fill_mode='nearest')\n",
    "\n",
    "train_generator = train_datagen.flow_from_dataframe(train,\n",
    "                                                   directory = train_path,\n",
    "                                                   x_col='image',\n",
    "                                                   y_col='label',\n",
    "                                                   batch_size=batch_size,\n",
    "                                                   class_mode='categorical',\n",
    "                                                   color_mode= 'rgb',\n",
    "                                                   target_size=(height, width))\n",
    "\n",
    "\n",
    "valid_datagen = ImageDataGenerator(rescale=1. / 255.)\n",
    "\n",
    "valid_generator = valid_datagen.flow_from_dataframe(valid,\n",
    "                                                   directory = train_path,\n",
    "                                                   x_col='image',\n",
    "                                                   y_col='label',\n",
    "                                                   batch_size=batch_size,\n",
    "                                                   class_mode='categorical',\n",
    "                                                   color_mode= 'rgb',\n",
    "                                                   target_size=(height, width))"
   ]
  },
  {
   "cell_type": "code",
   "execution_count": null,
   "id": "446a7d0a",
   "metadata": {
    "execution": {
     "iopub.execute_input": "2023-05-09T08:07:03.903280Z",
     "iopub.status.busy": "2023-05-09T08:07:03.902534Z",
     "iopub.status.idle": "2023-05-09T08:07:07.258642Z",
     "shell.execute_reply": "2023-05-09T08:07:07.257313Z"
    },
    "papermill": {
     "duration": 3.439242,
     "end_time": "2023-05-09T08:07:07.282863",
     "exception": false,
     "start_time": "2023-05-09T08:07:03.843621",
     "status": "completed"
    },
    "tags": []
   },
   "outputs": [],
   "source": [
    "# 데이터 증강 시각화\n",
    "\n",
    "pred2label={}\n",
    "for x in train_generator.class_indices.keys():\n",
    "    pred2label[train_generator.class_indices[x]] = x\n",
    "\n",
    "\n",
    "plt.figure(figsize=(20,15))\n",
    "index = np.random.randint(len(train_df), size=batch_size)\n",
    "x_augs, y_augs = train_generator.next()\n",
    "for i in range(16):\n",
    "    plt.subplot(4,4,i+1)\n",
    "    plt.imshow(x_augs[i, :, :, :])\n",
    "    plt.title(pred2label[np.argmax(y_augs[i, :])], fontsize=30)\n",
    "    plt.xticks([])\n",
    "    plt.yticks([])\n",
    "    plt.grid(False)\n",
    "plt.tight_layout()\n",
    "plt.show()"
   ]
  },
  {
   "cell_type": "markdown",
   "id": "8758453c",
   "metadata": {
    "papermill": {
     "duration": 0.098251,
     "end_time": "2023-05-09T08:07:07.483395",
     "exception": false,
     "start_time": "2023-05-09T08:07:07.385144",
     "status": "completed"
    },
    "tags": []
   },
   "source": [
    "# 모델 학습"
   ]
  },
  {
   "cell_type": "code",
   "execution_count": null,
   "id": "ab11598d",
   "metadata": {
    "execution": {
     "iopub.execute_input": "2023-05-09T08:07:07.670001Z",
     "iopub.status.busy": "2023-05-09T08:07:07.668867Z",
     "iopub.status.idle": "2023-05-09T08:07:07.676209Z",
     "shell.execute_reply": "2023-05-09T08:07:07.675283Z"
    },
    "papermill": {
     "duration": 0.102138,
     "end_time": "2023-05-09T08:07:07.678477",
     "exception": false,
     "start_time": "2023-05-09T08:07:07.576339",
     "status": "completed"
    },
    "tags": []
   },
   "outputs": [],
   "source": [
    "import tensorflow\n",
    "\n",
    "from tensorflow.keras.models import Sequential, Model\n",
    "from tensorflow.keras.layers import Input, InputLayer, Resizing\n",
    "from tensorflow.keras.layers import Conv2D, BatchNormalization\n",
    "from tensorflow.keras.layers import MaxPool2D, GlobalMaxPooling2D\n",
    "from tensorflow.keras.layers import Flatten\n",
    "from tensorflow.keras.layers import Dense, Dropout\n",
    "from tensorflow.keras.callbacks import EarlyStopping, ModelCheckpoint"
   ]
  },
  {
   "cell_type": "code",
   "execution_count": null,
   "id": "2809489b",
   "metadata": {
    "execution": {
     "iopub.execute_input": "2023-05-09T08:07:07.867136Z",
     "iopub.status.busy": "2023-05-09T08:07:07.865845Z",
     "iopub.status.idle": "2023-05-09T08:07:08.525691Z",
     "shell.execute_reply": "2023-05-09T08:07:08.524861Z"
    },
    "papermill": {
     "duration": 0.759178,
     "end_time": "2023-05-09T08:07:08.528146",
     "exception": false,
     "start_time": "2023-05-09T08:07:07.768968",
     "status": "completed"
    },
    "tags": []
   },
   "outputs": [],
   "source": [
    "cnn_model = Sequential()\n",
    "\n",
    "cnn_model.add(Conv2D(filters=32, kernel_size=3,activation=\"relu\", input_shape=(height, width, channel)))\n",
    "cnn_model.add(MaxPool2D(pool_size=2, strides=2))\n",
    "cnn_model.add(Conv2D(filters=64, kernel_size=3,activation=\"relu\"))\n",
    "cnn_model.add(MaxPool2D(pool_size=2, strides=2))\n",
    "cnn_model.add(Conv2D(filters=128, kernel_size=3, activation=\"relu\"))\n",
    "cnn_model.add(MaxPool2D(pool_size=2, strides=2))\n",
    "cnn_model.add(Flatten())\n",
    "cnn_model.add(Dense(units=512, activation=\"relu\"))\n",
    "cnn_model.add(Dropout(0.15))\n",
    "cnn_model.add(Dense(units=5, activation=\"softmax\"))"
   ]
  },
  {
   "cell_type": "code",
   "execution_count": null,
   "id": "3ea70908",
   "metadata": {
    "execution": {
     "iopub.execute_input": "2023-05-09T08:07:08.710530Z",
     "iopub.status.busy": "2023-05-09T08:07:08.710167Z",
     "iopub.status.idle": "2023-05-09T08:07:08.748605Z",
     "shell.execute_reply": "2023-05-09T08:07:08.747529Z"
    },
    "papermill": {
     "duration": 0.132175,
     "end_time": "2023-05-09T08:07:08.750654",
     "exception": false,
     "start_time": "2023-05-09T08:07:08.618479",
     "status": "completed"
    },
    "tags": []
   },
   "outputs": [],
   "source": [
    "# 모델 확인\n",
    "cnn_model.summary()"
   ]
  },
  {
   "cell_type": "code",
   "execution_count": null,
   "id": "d104f3a7",
   "metadata": {
    "execution": {
     "iopub.execute_input": "2023-05-09T08:07:08.938609Z",
     "iopub.status.busy": "2023-05-09T08:07:08.938187Z",
     "iopub.status.idle": "2023-05-09T08:07:08.959414Z",
     "shell.execute_reply": "2023-05-09T08:07:08.958221Z"
    },
    "papermill": {
     "duration": 0.118331,
     "end_time": "2023-05-09T08:07:08.961819",
     "exception": false,
     "start_time": "2023-05-09T08:07:08.843488",
     "status": "completed"
    },
    "tags": []
   },
   "outputs": [],
   "source": [
    "# 조기멈춤\n",
    "stop = EarlyStopping(patience=5)\n",
    "\n",
    "# 자동 저장\n",
    "checkpoint = ModelCheckpoint(\"./best_model\",monitor='val_accuracy',\n",
    "                            save_weights_only=True, mode='max',verbose=1,save_best_only=True)\n",
    "callbacks = [stop, checkpoint]\n",
    "\n",
    "# 모델 컴파일\n",
    "cnn_model.compile(optimizer=\"adam\", loss=\"categorical_crossentropy\", metrics=[\"accuracy\"])"
   ]
  },
  {
   "cell_type": "code",
   "execution_count": null,
   "id": "5161a0af",
   "metadata": {
    "execution": {
     "iopub.execute_input": "2023-05-09T08:07:09.148843Z",
     "iopub.status.busy": "2023-05-09T08:07:09.148497Z",
     "iopub.status.idle": "2023-05-09T09:12:02.954595Z",
     "shell.execute_reply": "2023-05-09T09:12:02.953773Z"
    },
    "papermill": {
     "duration": 3894.00101,
     "end_time": "2023-05-09T09:12:03.055383",
     "exception": false,
     "start_time": "2023-05-09T08:07:09.054373",
     "status": "completed"
    },
    "scrolled": true,
    "tags": []
   },
   "outputs": [],
   "source": [
    "# 모델 훈련\n",
    "cnn_history = cnn_model.fit(train_generator,\n",
    "                            validation_data=valid_generator,\n",
    "                            callbacks=callbacks,\n",
    "                            verbose=2,\n",
    "                            epochs=20)\n",
    "\n",
    "# 모델 저장\n",
    "#cnn_model.save('cnn_model.h5')"
   ]
  },
  {
   "cell_type": "code",
   "execution_count": null,
   "id": "a5dcf768",
   "metadata": {
    "execution": {
     "iopub.execute_input": "2023-05-09T09:12:03.256716Z",
     "iopub.status.busy": "2023-05-09T09:12:03.255941Z",
     "iopub.status.idle": "2023-05-09T09:12:39.963421Z",
     "shell.execute_reply": "2023-05-09T09:12:39.962291Z"
    },
    "papermill": {
     "duration": 36.814848,
     "end_time": "2023-05-09T09:12:39.965975",
     "exception": false,
     "start_time": "2023-05-09T09:12:03.151127",
     "status": "completed"
    },
    "tags": []
   },
   "outputs": [],
   "source": [
    "# 정확도와 손실값 확인\n",
    "\n",
    "acc = cnn_history.history['accuracy']\n",
    "val_acc = cnn_history.history['val_accuracy']\n",
    "loss = cnn_history.history['loss']\n",
    "val_loss = cnn_history.history['val_loss']\n",
    "\n",
    "epochs = range(len(acc))\n",
    "\n",
    "plt.plot(epochs, acc, 'r', label='Training accuracy')\n",
    "plt.plot(epochs, val_acc, 'b', label='Validation accuracy')\n",
    "plt.title('Training and validation accuracy')\n",
    "plt.legend()\n",
    "\n",
    "plt.figure()\n",
    "\n",
    "plt.plot(epochs, loss, 'r', label='Training Loss')\n",
    "plt.plot(epochs, val_loss, 'b', label='Validation Loss')\n",
    "plt.title('Training and validation loss')\n",
    "plt.legend()\n",
    "\n",
    "plt.show()"
   ]
  },
  {
   "cell_type": "markdown",
   "id": "24474b10",
   "metadata": {
    "papermill": {
     "duration": 0.097939,
     "end_time": "2023-05-09T09:12:40.171247",
     "exception": false,
     "start_time": "2023-05-09T09:12:40.073308",
     "status": "completed"
    },
    "tags": []
   },
   "source": [
    "# 테스트"
   ]
  },
  {
   "cell_type": "code",
   "execution_count": null,
   "id": "8306a406",
   "metadata": {
    "execution": {
     "iopub.execute_input": "2023-05-09T09:12:40.371868Z",
     "iopub.status.busy": "2023-05-09T09:12:40.371467Z",
     "iopub.status.idle": "2023-05-09T09:12:40.645849Z",
     "shell.execute_reply": "2023-05-09T09:12:40.645054Z"
    },
    "papermill": {
     "duration": 0.377076,
     "end_time": "2023-05-09T09:12:40.647924",
     "exception": false,
     "start_time": "2023-05-09T09:12:40.270848",
     "status": "completed"
    },
    "tags": []
   },
   "outputs": [],
   "source": [
    "cnn_model.load_weights('best_model')"
   ]
  },
  {
   "cell_type": "code",
   "execution_count": null,
   "id": "589a0a6a",
   "metadata": {
    "execution": {
     "iopub.execute_input": "2023-05-09T09:12:40.847613Z",
     "iopub.status.busy": "2023-05-09T09:12:40.846920Z",
     "iopub.status.idle": "2023-05-09T09:12:40.869257Z",
     "shell.execute_reply": "2023-05-09T09:12:40.868220Z"
    },
    "papermill": {
     "duration": 0.126271,
     "end_time": "2023-05-09T09:12:40.871531",
     "exception": false,
     "start_time": "2023-05-09T09:12:40.745260",
     "status": "completed"
    },
    "tags": []
   },
   "outputs": [],
   "source": [
    "test_df = pd.read_csv(base_path + \"/test.csv\")\n",
    "test_df.head(5)"
   ]
  },
  {
   "cell_type": "code",
   "execution_count": null,
   "id": "82f1c7fa",
   "metadata": {
    "execution": {
     "iopub.execute_input": "2023-05-09T09:12:41.069052Z",
     "iopub.status.busy": "2023-05-09T09:12:41.067819Z",
     "iopub.status.idle": "2023-05-09T09:12:41.073591Z",
     "shell.execute_reply": "2023-05-09T09:12:41.072771Z"
    },
    "papermill": {
     "duration": 0.10711,
     "end_time": "2023-05-09T09:12:41.075947",
     "exception": false,
     "start_time": "2023-05-09T09:12:40.968837",
     "status": "completed"
    },
    "tags": []
   },
   "outputs": [],
   "source": [
    "batch_size = len(test_df[\"image\"])\n",
    "height, width, channel = 224, 224, 3"
   ]
  },
  {
   "cell_type": "code",
   "execution_count": null,
   "id": "87a71e40",
   "metadata": {
    "execution": {
     "iopub.execute_input": "2023-05-09T09:12:41.276568Z",
     "iopub.status.busy": "2023-05-09T09:12:41.276161Z",
     "iopub.status.idle": "2023-05-09T09:12:52.279001Z",
     "shell.execute_reply": "2023-05-09T09:12:52.277774Z"
    },
    "papermill": {
     "duration": 11.108086,
     "end_time": "2023-05-09T09:12:52.281663",
     "exception": false,
     "start_time": "2023-05-09T09:12:41.173577",
     "status": "completed"
    },
    "tags": []
   },
   "outputs": [],
   "source": [
    "# 테스트 이미지를 메모리에 올림.\n",
    "test_path = base_path + '/test'\n",
    "\n",
    "test_image = np.zeros((batch_size, height, width, channel))\n",
    "print(test_image.shape)\n",
    "cnt=0\n",
    "for i in range(len(test_df[\"image\"])):\n",
    "    path_img = test_df['image'][i]\n",
    "    img = image.load_img(os.path.join(test_path,path_img), target_size=(height, width))\n",
    "    img_tensor = image.img_to_array(img)\n",
    "    img_tensor = np.array(img_tensor,dtype=\"float32\")\n",
    "\n",
    "    img_tensor /= 255\n",
    "    \n",
    "    img_tensor = np.expand_dims(img_tensor, axis=0)\n",
    "    \n",
    "    test_image[i] = img_tensor"
   ]
  },
  {
   "cell_type": "code",
   "execution_count": null,
   "id": "401b977b",
   "metadata": {
    "execution": {
     "iopub.execute_input": "2023-05-09T09:12:52.485589Z",
     "iopub.status.busy": "2023-05-09T09:12:52.485163Z",
     "iopub.status.idle": "2023-05-09T09:13:14.601343Z",
     "shell.execute_reply": "2023-05-09T09:13:14.600209Z"
    },
    "papermill": {
     "duration": 22.22229,
     "end_time": "2023-05-09T09:13:14.603853",
     "exception": false,
     "start_time": "2023-05-09T09:12:52.381563",
     "status": "completed"
    },
    "tags": []
   },
   "outputs": [],
   "source": [
    "predictions = cnn_model.predict(test_image)\n",
    "predictions.shape"
   ]
  },
  {
   "cell_type": "code",
   "execution_count": null,
   "id": "c556e9d5",
   "metadata": {
    "execution": {
     "iopub.execute_input": "2023-05-09T09:13:14.814979Z",
     "iopub.status.busy": "2023-05-09T09:13:14.814189Z",
     "iopub.status.idle": "2023-05-09T09:13:14.829816Z",
     "shell.execute_reply": "2023-05-09T09:13:14.828690Z"
    },
    "papermill": {
     "duration": 0.12694,
     "end_time": "2023-05-09T09:13:14.832317",
     "exception": false,
     "start_time": "2023-05-09T09:13:14.705377",
     "status": "completed"
    },
    "tags": []
   },
   "outputs": [],
   "source": [
    "test_df['label'] = [pred2label[np.argmax(pred)] for pred in predictions]\n",
    "test_df"
   ]
  },
  {
   "cell_type": "code",
   "execution_count": null,
   "id": "99efde3d",
   "metadata": {
    "execution": {
     "iopub.execute_input": "2023-05-09T09:13:15.044922Z",
     "iopub.status.busy": "2023-05-09T09:13:15.043924Z",
     "iopub.status.idle": "2023-05-09T09:13:15.056771Z",
     "shell.execute_reply": "2023-05-09T09:13:15.055928Z"
    },
    "papermill": {
     "duration": 0.122725,
     "end_time": "2023-05-09T09:13:15.059036",
     "exception": false,
     "start_time": "2023-05-09T09:13:14.936311",
     "status": "completed"
    },
    "tags": []
   },
   "outputs": [],
   "source": [
    "test_df.to_csv('./submission.csv', index=False)"
   ]
  },
  {
   "cell_type": "code",
   "execution_count": null,
   "id": "6cffcf33",
   "metadata": {
    "papermill": {
     "duration": 0.10299,
     "end_time": "2023-05-09T09:13:15.263720",
     "exception": false,
     "start_time": "2023-05-09T09:13:15.160730",
     "status": "completed"
    },
    "tags": []
   },
   "outputs": [],
   "source": []
  }
 ],
 "metadata": {
  "kernelspec": {
   "display_name": "Python 3 (ipykernel)",
   "language": "python",
   "name": "python3"
  },
  "language_info": {
   "codemirror_mode": {
    "name": "ipython",
    "version": 3
   },
   "file_extension": ".py",
   "mimetype": "text/x-python",
   "name": "python",
   "nbconvert_exporter": "python",
   "pygments_lexer": "ipython3",
   "version": "3.9.12"
  },
  "papermill": {
   "default_parameters": {},
   "duration": 4005.174171,
   "end_time": "2023-05-09T09:13:18.472605",
   "environment_variables": {},
   "exception": null,
   "input_path": "__notebook__.ipynb",
   "output_path": "__notebook__.ipynb",
   "parameters": {},
   "start_time": "2023-05-09T08:06:33.298434",
   "version": "2.4.0"
  }
 },
 "nbformat": 4,
 "nbformat_minor": 5
}
