{
 "cells": [
  {
   "cell_type": "code",
   "execution_count": 4,
   "metadata": {},
   "outputs": [
    {
     "name": "stdout",
     "output_type": "stream",
     "text": [
      "6.0\n"
     ]
    }
   ],
   "source": [
    "import sympy as sym\n",
    "\n",
    "x = sym.Symbol('x') # x라는 심볼 객체 생성 (심볼 객체 일반적인 변수와는 다른 형태의 데이터형임)\n",
    "y = x**2+2*x+1 # 𝑥𝑛을 심볼릭으로 표현하기 위해서는 x**n 으로 표현 (예. x**2는 𝑥2를 나타냄)\n",
    "#y # y는 x에 대한 심볼릭으로 표현된 함수. 출력 시 아래와 같음\n",
    "\n",
    "y_ = sym.diff(y) # sym.diff 함수를 이용하여 y의 수식을 미분함\n",
    "#y_ # 미분한 결과를 출력하면 아래 와 같음\n",
    "\n",
    "y_.subs(x,2) # subs 함수를 이용하여, 해당 수식의 특정 변수에 숫자를 넣어줄 수 있다. (예시. 2x+2 의 x에 숫자 2를 넣어줌)\n",
    "\n",
    "result = float(y_.subs(x,2)) # 심볼릭 연산의 결과값은 일반적인 실수 형태의 float 데이터가 아니며, 변환은 왼쪽과 같이 한다.\n",
    "print(result)"
   ]
  },
  {
   "cell_type": "code",
   "execution_count": 5,
   "metadata": {},
   "outputs": [
    {
     "name": "stdout",
     "output_type": "stream",
     "text": [
      "x^2+2x+1 함수의 x=2지점에서의 미분값은 6.000100000012054 입니다.\n"
     ]
    }
   ],
   "source": [
    "# 전방 차분\n",
    "def numerical_diff(x):\n",
    "    p1 = x*x+2*x+1 # 함수의 입력 x 지점(p1)\n",
    "    h = 1e-4 # 0.0001\n",
    "    p2 = (x+h)*(x+h)+2*(x+h)+1 # p1과 아주 가까운 위치의 한점 p2 (x+h)\n",
    "\n",
    "    diff_result = (p2-p1)/h # 기울기 구하기\n",
    "\n",
    "    return diff_result # 기울기 값 반환\n",
    "\n",
    "print(\"x^2+2x+1 함수의 x=2지점에서의 미분값은\", numerical_diff(2), \"입니다.\")"
   ]
  },
  {
   "cell_type": "code",
   "execution_count": 6,
   "metadata": {},
   "outputs": [
    {
     "name": "stdout",
     "output_type": "stream",
     "text": [
      "x^2+2x+1 함수의 x=2지점에서의 미분값은 6.000000000003781e-08 입니다.\n"
     ]
    }
   ],
   "source": [
    "# 중앙 차분\n",
    "def numerical_diff(x):\n",
    "    h = 1e-4 # 0.0001\n",
    "    p1 = (x-h)*(x-h)+2*(x-h)+1 # x-h\n",
    "    p2 = (x+h)*(x+h)+2*(x+h)+1 # p1과 아주 가까운 위치의 한점 p2 (x+h)\n",
    "    \n",
    "    diff_result = (p2-p1)/2*h # 기울기 구하기\n",
    "\n",
    "    return diff_result # 기울기 값 반환\n",
    "\n",
    "print(\"x^2+2x+1 함수의 x=2지점에서의 미분값은\", numerical_diff(2), \"입니다.\")"
   ]
  }
 ],
 "metadata": {
  "kernelspec": {
   "display_name": "Python 3",
   "language": "python",
   "name": "python3"
  },
  "language_info": {
   "codemirror_mode": {
    "name": "ipython",
    "version": 3
   },
   "file_extension": ".py",
   "mimetype": "text/x-python",
   "name": "python",
   "nbconvert_exporter": "python",
   "pygments_lexer": "ipython3",
   "version": "3.10.7"
  },
  "orig_nbformat": 4
 },
 "nbformat": 4,
 "nbformat_minor": 2
}
