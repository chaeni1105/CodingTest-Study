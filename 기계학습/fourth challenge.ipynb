{
 "cells": [
  {
   "cell_type": "code",
   "execution_count": 63,
   "metadata": {
    "_cell_guid": "b1076dfc-b9ad-4769-8c92-a6c4dae69d19",
    "_uuid": "8f2839f25d086af736a60e9eeb907d3b93b6e0e5",
    "execution": {
     "iopub.execute_input": "2023-04-10T08:09:06.660973Z",
     "iopub.status.busy": "2023-04-10T08:09:06.659651Z",
     "iopub.status.idle": "2023-04-10T08:09:06.701808Z",
     "shell.execute_reply": "2023-04-10T08:09:06.70085Z",
     "shell.execute_reply.started": "2023-04-10T08:09:06.660917Z"
    }
   },
   "outputs": [],
   "source": [
    "import numpy as np # linear algebra\n",
    "import pandas as pd # data processing, CSV file I/O (e.g. pd.read_csv)\n",
    "import seaborn as sns\n",
    "from matplotlib import pyplot as plt\n",
    "import sklearn\n",
    "import warnings\n",
    "warnings.filterwarnings('ignore')\n",
    "\n",
    "plt.style.use('seaborn')\n",
    "sns.set(font_scale=1.4)\n",
    "\n",
    "# 데이터 불러오기\n",
    "train = pd.read_csv('train.csv')\n",
    "test_ = pd.read_csv('test.csv')\n",
    "\n",
    "test = test_.copy() # 데이터 보존"
   ]
  },
  {
   "attachments": {},
   "cell_type": "markdown",
   "metadata": {},
   "source": [
    "### 데이터 전처리"
   ]
  },
  {
   "cell_type": "code",
   "execution_count": 64,
   "metadata": {},
   "outputs": [],
   "source": [
    "#수치형 변수에 포함되는 데이터 타입 선정\n",
    "\n",
    "numerics = ['int16', 'int32', 'int64', 'float16', 'float32', 'float64']\n",
    "\n",
    "\n",
    "#결측치는 위 데이터로 채우기\n",
    "\n",
    "train[train.select_dtypes(include=numerics).columns] = \\\n",
    "    train[train.select_dtypes(include=numerics).columns].fillna(method='ffill')\n",
    "\n",
    "test[test.select_dtypes(include=numerics).columns] = \\\n",
    "    test[test.select_dtypes(include=numerics).columns].fillna(method='ffill')"
   ]
  },
  {
   "cell_type": "code",
   "execution_count": 65,
   "metadata": {},
   "outputs": [],
   "source": [
    "test_not_index = test.drop(['index'], axis=1)\n",
    "train_not_index = train.drop(['index'], axis=1)\n",
    "\n",
    "train_not_index.drop(['day'], inplace=True, axis=1)\n",
    "test_not_index.drop(['day'], inplace=True, axis=1)"
   ]
  },
  {
   "cell_type": "code",
   "execution_count": 66,
   "metadata": {},
   "outputs": [],
   "source": [
    "# month, hour 은 범주형으로 변경\n",
    "# train['month'] = train['month'].astype('category')\n",
    "# train['hour'] = train['hour'].astype('category')\n",
    "\n",
    "# month와 hour 범주화 타입으로 변경\n",
    "# test['month'] = test['month'].astype('category')\n",
    "# test['hour'] = test['hour'].astype('category')"
   ]
  },
  {
   "cell_type": "code",
   "execution_count": 67,
   "metadata": {},
   "outputs": [],
   "source": [
    "# weather 은 범주형 Feature 입니다.\n",
    "# 숫자로 표현돼 있으니 One-Hot Encoding을 진행해 줍니다.\n",
    "# One-hot encoding 진행\n",
    "train_not_index = pd.get_dummies(train_not_index, columns=['weather_condition'])\n",
    "test_not_index = pd.get_dummies(test_not_index, columns=['weather_condition'])"
   ]
  },
  {
   "cell_type": "code",
   "execution_count": 68,
   "metadata": {},
   "outputs": [],
   "source": [
    "# skin_temp 제거\n",
    "train_not_index.drop(['skin_temp'], inplace=True, axis=1)\n",
    "test_not_index.drop(['skin_temp'], inplace=True, axis=1)"
   ]
  },
  {
   "attachments": {},
   "cell_type": "markdown",
   "metadata": {},
   "source": [
    "## 검증 데이터로 분리\n",
    "\n",
    "베이스 코드에는 모델의 성능을 비교해보기 위해 train 데이터에서 일부를 validation 데이터로 나눠서 진행"
   ]
  },
  {
   "attachments": {},
   "cell_type": "markdown",
   "metadata": {},
   "source": [
    "### Train, Test data 분할하기"
   ]
  },
  {
   "cell_type": "code",
   "execution_count": 69,
   "metadata": {},
   "outputs": [],
   "source": [
    "from sklearn.model_selection import train_test_split\n",
    "\n",
    "train_data, val_data = train_test_split(train_not_index, test_size = 0.2, random_state=2023, shuffle=True)"
   ]
  },
  {
   "cell_type": "code",
   "execution_count": 70,
   "metadata": {},
   "outputs": [
    {
     "name": "stdout",
     "output_type": "stream",
     "text": [
      "(3910, 8)\n",
      "(978, 8)\n"
     ]
    }
   ],
   "source": [
    "print(train_data.shape)\n",
    "print(val_data.shape)"
   ]
  },
  {
   "cell_type": "code",
   "execution_count": 71,
   "metadata": {
    "execution": {
     "iopub.execute_input": "2023-04-10T08:10:16.980692Z",
     "iopub.status.busy": "2023-04-10T08:10:16.980292Z",
     "iopub.status.idle": "2023-04-10T08:10:16.991799Z",
     "shell.execute_reply": "2023-04-10T08:10:16.990337Z",
     "shell.execute_reply.started": "2023-04-10T08:10:16.980659Z"
    }
   },
   "outputs": [
    {
     "name": "stdout",
     "output_type": "stream",
     "text": [
      "X_train의 shape:  (3910, 7)\n",
      "X_val의 shape:  (978, 7)\n",
      "X_test의 shape:  (576, 7)\n",
      "\t\n",
      "y_train의 shape:  (3910,)\n",
      "y_val의 shape:  (978,)\n"
     ]
    }
   ],
   "source": [
    "X_train = train_data.drop(['count'], axis = 1)\n",
    "X_val = val_data.drop(['count'], axis = 1)\n",
    "X_test = test_not_index\n",
    "\n",
    "y_train = train_data['count']\n",
    "y_val = val_data['count']\n",
    "\n",
    "\n",
    "print(\"X_train의 shape: \", X_train.shape)\n",
    "print(\"X_val의 shape: \", X_val.shape)\n",
    "print(\"X_test의 shape: \", X_test.shape)\n",
    "print(\"\\t\")\n",
    "print(\"y_train의 shape: \", y_train.shape)\n",
    "print(\"y_val의 shape: \", y_val.shape)"
   ]
  },
  {
   "cell_type": "code",
   "execution_count": 72,
   "metadata": {},
   "outputs": [
    {
     "data": {
      "text/html": [
       "<div>\n",
       "<style scoped>\n",
       "    .dataframe tbody tr th:only-of-type {\n",
       "        vertical-align: middle;\n",
       "    }\n",
       "\n",
       "    .dataframe tbody tr th {\n",
       "        vertical-align: top;\n",
       "    }\n",
       "\n",
       "    .dataframe thead th {\n",
       "        text-align: right;\n",
       "    }\n",
       "</style>\n",
       "<table border=\"1\" class=\"dataframe\">\n",
       "  <thead>\n",
       "    <tr style=\"text-align: right;\">\n",
       "      <th></th>\n",
       "      <th>month</th>\n",
       "      <th>hour</th>\n",
       "      <th>real_temp</th>\n",
       "      <th>humidity</th>\n",
       "      <th>windspeed</th>\n",
       "      <th>weather_condition_1</th>\n",
       "      <th>weather_condition_2</th>\n",
       "    </tr>\n",
       "  </thead>\n",
       "  <tbody>\n",
       "    <tr>\n",
       "      <th>0</th>\n",
       "      <td>1</td>\n",
       "      <td>0</td>\n",
       "      <td>18.86</td>\n",
       "      <td>77.0</td>\n",
       "      <td>22.0028</td>\n",
       "      <td>0</td>\n",
       "      <td>1</td>\n",
       "    </tr>\n",
       "    <tr>\n",
       "      <th>1</th>\n",
       "      <td>1</td>\n",
       "      <td>1</td>\n",
       "      <td>18.86</td>\n",
       "      <td>77.0</td>\n",
       "      <td>22.0028</td>\n",
       "      <td>0</td>\n",
       "      <td>1</td>\n",
       "    </tr>\n",
       "    <tr>\n",
       "      <th>2</th>\n",
       "      <td>1</td>\n",
       "      <td>2</td>\n",
       "      <td>18.04</td>\n",
       "      <td>51.0</td>\n",
       "      <td>32.9975</td>\n",
       "      <td>0</td>\n",
       "      <td>1</td>\n",
       "    </tr>\n",
       "    <tr>\n",
       "      <th>3</th>\n",
       "      <td>1</td>\n",
       "      <td>3</td>\n",
       "      <td>18.04</td>\n",
       "      <td>51.0</td>\n",
       "      <td>32.9975</td>\n",
       "      <td>0</td>\n",
       "      <td>1</td>\n",
       "    </tr>\n",
       "    <tr>\n",
       "      <th>4</th>\n",
       "      <td>1</td>\n",
       "      <td>4</td>\n",
       "      <td>13.94</td>\n",
       "      <td>46.0</td>\n",
       "      <td>35.0008</td>\n",
       "      <td>1</td>\n",
       "      <td>0</td>\n",
       "    </tr>\n",
       "    <tr>\n",
       "      <th>...</th>\n",
       "      <td>...</td>\n",
       "      <td>...</td>\n",
       "      <td>...</td>\n",
       "      <td>...</td>\n",
       "      <td>...</td>\n",
       "      <td>...</td>\n",
       "      <td>...</td>\n",
       "    </tr>\n",
       "    <tr>\n",
       "      <th>571</th>\n",
       "      <td>12</td>\n",
       "      <td>19</td>\n",
       "      <td>15.58</td>\n",
       "      <td>50.0</td>\n",
       "      <td>26.0027</td>\n",
       "      <td>1</td>\n",
       "      <td>0</td>\n",
       "    </tr>\n",
       "    <tr>\n",
       "      <th>572</th>\n",
       "      <td>12</td>\n",
       "      <td>20</td>\n",
       "      <td>14.76</td>\n",
       "      <td>50.0</td>\n",
       "      <td>15.0013</td>\n",
       "      <td>1</td>\n",
       "      <td>0</td>\n",
       "    </tr>\n",
       "    <tr>\n",
       "      <th>573</th>\n",
       "      <td>12</td>\n",
       "      <td>21</td>\n",
       "      <td>13.94</td>\n",
       "      <td>61.0</td>\n",
       "      <td>15.0013</td>\n",
       "      <td>1</td>\n",
       "      <td>0</td>\n",
       "    </tr>\n",
       "    <tr>\n",
       "      <th>574</th>\n",
       "      <td>12</td>\n",
       "      <td>22</td>\n",
       "      <td>13.94</td>\n",
       "      <td>61.0</td>\n",
       "      <td>6.0032</td>\n",
       "      <td>1</td>\n",
       "      <td>0</td>\n",
       "    </tr>\n",
       "    <tr>\n",
       "      <th>575</th>\n",
       "      <td>12</td>\n",
       "      <td>23</td>\n",
       "      <td>13.12</td>\n",
       "      <td>66.0</td>\n",
       "      <td>8.9981</td>\n",
       "      <td>1</td>\n",
       "      <td>0</td>\n",
       "    </tr>\n",
       "  </tbody>\n",
       "</table>\n",
       "<p>576 rows × 7 columns</p>\n",
       "</div>"
      ],
      "text/plain": [
       "     month  hour  real_temp  humidity  windspeed  weather_condition_1  \\\n",
       "0        1     0      18.86      77.0    22.0028                    0   \n",
       "1        1     1      18.86      77.0    22.0028                    0   \n",
       "2        1     2      18.04      51.0    32.9975                    0   \n",
       "3        1     3      18.04      51.0    32.9975                    0   \n",
       "4        1     4      13.94      46.0    35.0008                    1   \n",
       "..     ...   ...        ...       ...        ...                  ...   \n",
       "571     12    19      15.58      50.0    26.0027                    1   \n",
       "572     12    20      14.76      50.0    15.0013                    1   \n",
       "573     12    21      13.94      61.0    15.0013                    1   \n",
       "574     12    22      13.94      61.0     6.0032                    1   \n",
       "575     12    23      13.12      66.0     8.9981                    1   \n",
       "\n",
       "     weather_condition_2  \n",
       "0                      1  \n",
       "1                      1  \n",
       "2                      1  \n",
       "3                      1  \n",
       "4                      0  \n",
       "..                   ...  \n",
       "571                    0  \n",
       "572                    0  \n",
       "573                    0  \n",
       "574                    0  \n",
       "575                    0  \n",
       "\n",
       "[576 rows x 7 columns]"
      ]
     },
     "execution_count": 72,
     "metadata": {},
     "output_type": "execute_result"
    }
   ],
   "source": [
    "X_test"
   ]
  },
  {
   "attachments": {},
   "cell_type": "markdown",
   "metadata": {},
   "source": [
    "### 모델링"
   ]
  },
  {
   "cell_type": "code",
   "execution_count": 73,
   "metadata": {},
   "outputs": [],
   "source": [
    "from sklearn.ensemble import RandomForestRegressor\n",
    "from sklearn.metrics import mean_absolute_error"
   ]
  },
  {
   "cell_type": "code",
   "execution_count": 74,
   "metadata": {},
   "outputs": [],
   "source": [
    "# 전동킥보드 수요를 예측하는 대회이므로 회귀(Regression) 모델을 사용합니다.\n",
    "# 이 대회는 회귀 평가 지표중 하나인 R2(R Squared Score) 결정계수 Score 로 평가합니다.\n",
    "\n",
    "from sklearn.metrics import r2_score\n",
    "# r-square 함수사용\n",
    "# r2 = r2_score(y_test, y_pred)"
   ]
  },
  {
   "cell_type": "code",
   "execution_count": 75,
   "metadata": {},
   "outputs": [
    {
     "name": "stdout",
     "output_type": "stream",
     "text": [
      "0.8469626399863023\n",
      "0.7609937245195536\n",
      "0.7609937245195536\n"
     ]
    }
   ],
   "source": [
    "rnd_clf = RandomForestRegressor(n_estimators=500, max_leaf_nodes=100, n_jobs=-1)\n",
    "rnd_clf.fit(X_train, y_train)\n",
    "\n",
    "y_rnd_pred = rnd_clf.predict(X_val)\n",
    "\n",
    "print(rnd_clf.score(X_train, y_train))\n",
    "print(rnd_clf.score(X_val, y_val))\n",
    "print(r2_score(y_val, y_rnd_pred))"
   ]
  },
  {
   "cell_type": "code",
   "execution_count": 76,
   "metadata": {},
   "outputs": [],
   "source": [
    "from sklearn.ensemble import RandomForestRegressor # Random Forest\n",
    "from sklearn.ensemble import AdaBoostRegressor # AdaBoost\n",
    "from sklearn.ensemble import BaggingRegressor # Bagging"
   ]
  },
  {
   "cell_type": "code",
   "execution_count": 77,
   "metadata": {},
   "outputs": [],
   "source": [
    "# kfold 준비\n",
    "from sklearn.model_selection import KFold, cross_val_score\n",
    " \n",
    "# kfold 설정\n",
    "kfold = KFold(n_splits=10, random_state=1230, shuffle=True)"
   ]
  },
  {
   "cell_type": "code",
   "execution_count": 78,
   "metadata": {},
   "outputs": [],
   "source": [
    "# # 사용할 모델 설정\n",
    "# models = [RandomForestRegressor(), AdaBoostRegressor(), BaggingRegressor()]\n",
    "# regressors = ['RandomForest', 'AdaBoost', 'Bagging']\n",
    "# score_result = []\n",
    " \n",
    "# # Kfold 교차 검증\n",
    "# for x in models:\n",
    "#     Rgr = x\n",
    "#     score = cross_val_score(Rgr, X_train, y_train, cv=kfold, scoring='r2')\n",
    "#     score_result.append(score.mean())\n",
    "    \n",
    "# # 결과를 dataframe 으로 변경\n",
    "# Kfold_score_result = pd.DataFrame({'Score' : score_result}, index=regressors)\n",
    "# Kfold_score_result"
   ]
  },
  {
   "cell_type": "code",
   "execution_count": 79,
   "metadata": {},
   "outputs": [],
   "source": [
    "# # 랜덤포레스트 모델 사용준비\n",
    "# from sklearn.ensemble import RandomForestRegressor\n",
    " \n",
    "# val = [10, 20, 30, 40, 50, 70, 100, 150, 200]\n",
    "# result = []\n",
    " \n",
    "# for i in val:\n",
    "#     # 랜덤포레스트 모델\n",
    "#     model = RandomForestRegressor(n_estimators=i)\n",
    " \n",
    "#     # kfold 교차 검증\n",
    "#     score = cross_val_score(model, X_train, y_train, cv=kfold, scoring='r2')\n",
    " \n",
    "#     # score 평균\n",
    "#     mean = score.mean()\n",
    "#     result.append(mean)"
   ]
  },
  {
   "cell_type": "code",
   "execution_count": 80,
   "metadata": {},
   "outputs": [],
   "source": [
    "# fig, ax = plt.subplots(figsize=(12,5))\n",
    " \n",
    "# # x축은 n_estimators 값, y축은 score 의 평균\n",
    "# plt.plot(val,result)\n",
    " \n",
    "# plt.show()"
   ]
  },
  {
   "attachments": {},
   "cell_type": "markdown",
   "metadata": {},
   "source": [
    "# 결과 제출\n",
    "\n",
    "예측한 결과값을 submission 파일로 생성 "
   ]
  },
  {
   "cell_type": "code",
   "execution_count": 81,
   "metadata": {},
   "outputs": [],
   "source": [
    "# 학습 및 예측\n",
    "test_predicted = rnd_clf.predict(X_test)"
   ]
  },
  {
   "cell_type": "code",
   "execution_count": 82,
   "metadata": {
    "execution": {
     "iopub.execute_input": "2023-04-10T08:10:36.072117Z",
     "iopub.status.busy": "2023-04-10T08:10:36.071247Z",
     "iopub.status.idle": "2023-04-10T08:10:36.094502Z",
     "shell.execute_reply": "2023-04-10T08:10:36.093372Z",
     "shell.execute_reply.started": "2023-04-10T08:10:36.072068Z"
    }
   },
   "outputs": [
    {
     "data": {
      "text/html": [
       "<div>\n",
       "<style scoped>\n",
       "    .dataframe tbody tr th:only-of-type {\n",
       "        vertical-align: middle;\n",
       "    }\n",
       "\n",
       "    .dataframe tbody tr th {\n",
       "        vertical-align: top;\n",
       "    }\n",
       "\n",
       "    .dataframe thead th {\n",
       "        text-align: right;\n",
       "    }\n",
       "</style>\n",
       "<table border=\"1\" class=\"dataframe\">\n",
       "  <thead>\n",
       "    <tr style=\"text-align: right;\">\n",
       "      <th></th>\n",
       "      <th>index</th>\n",
       "      <th>month</th>\n",
       "      <th>hour</th>\n",
       "      <th>real_temp</th>\n",
       "      <th>humidity</th>\n",
       "      <th>windspeed</th>\n",
       "      <th>weather_condition_1</th>\n",
       "      <th>weather_condition_2</th>\n",
       "    </tr>\n",
       "  </thead>\n",
       "  <tbody>\n",
       "    <tr>\n",
       "      <th>0</th>\n",
       "      <td>1</td>\n",
       "      <td>1</td>\n",
       "      <td>0</td>\n",
       "      <td>18.86</td>\n",
       "      <td>77.0</td>\n",
       "      <td>22.0028</td>\n",
       "      <td>0</td>\n",
       "      <td>1</td>\n",
       "    </tr>\n",
       "    <tr>\n",
       "      <th>1</th>\n",
       "      <td>2</td>\n",
       "      <td>1</td>\n",
       "      <td>1</td>\n",
       "      <td>18.86</td>\n",
       "      <td>77.0</td>\n",
       "      <td>22.0028</td>\n",
       "      <td>0</td>\n",
       "      <td>1</td>\n",
       "    </tr>\n",
       "    <tr>\n",
       "      <th>2</th>\n",
       "      <td>3</td>\n",
       "      <td>1</td>\n",
       "      <td>2</td>\n",
       "      <td>18.04</td>\n",
       "      <td>51.0</td>\n",
       "      <td>32.9975</td>\n",
       "      <td>0</td>\n",
       "      <td>1</td>\n",
       "    </tr>\n",
       "    <tr>\n",
       "      <th>3</th>\n",
       "      <td>4</td>\n",
       "      <td>1</td>\n",
       "      <td>3</td>\n",
       "      <td>18.04</td>\n",
       "      <td>51.0</td>\n",
       "      <td>32.9975</td>\n",
       "      <td>0</td>\n",
       "      <td>1</td>\n",
       "    </tr>\n",
       "    <tr>\n",
       "      <th>4</th>\n",
       "      <td>5</td>\n",
       "      <td>1</td>\n",
       "      <td>4</td>\n",
       "      <td>13.94</td>\n",
       "      <td>46.0</td>\n",
       "      <td>35.0008</td>\n",
       "      <td>1</td>\n",
       "      <td>0</td>\n",
       "    </tr>\n",
       "    <tr>\n",
       "      <th>...</th>\n",
       "      <td>...</td>\n",
       "      <td>...</td>\n",
       "      <td>...</td>\n",
       "      <td>...</td>\n",
       "      <td>...</td>\n",
       "      <td>...</td>\n",
       "      <td>...</td>\n",
       "      <td>...</td>\n",
       "    </tr>\n",
       "    <tr>\n",
       "      <th>571</th>\n",
       "      <td>572</td>\n",
       "      <td>12</td>\n",
       "      <td>19</td>\n",
       "      <td>15.58</td>\n",
       "      <td>50.0</td>\n",
       "      <td>26.0027</td>\n",
       "      <td>1</td>\n",
       "      <td>0</td>\n",
       "    </tr>\n",
       "    <tr>\n",
       "      <th>572</th>\n",
       "      <td>573</td>\n",
       "      <td>12</td>\n",
       "      <td>20</td>\n",
       "      <td>14.76</td>\n",
       "      <td>50.0</td>\n",
       "      <td>15.0013</td>\n",
       "      <td>1</td>\n",
       "      <td>0</td>\n",
       "    </tr>\n",
       "    <tr>\n",
       "      <th>573</th>\n",
       "      <td>574</td>\n",
       "      <td>12</td>\n",
       "      <td>21</td>\n",
       "      <td>13.94</td>\n",
       "      <td>61.0</td>\n",
       "      <td>15.0013</td>\n",
       "      <td>1</td>\n",
       "      <td>0</td>\n",
       "    </tr>\n",
       "    <tr>\n",
       "      <th>574</th>\n",
       "      <td>575</td>\n",
       "      <td>12</td>\n",
       "      <td>22</td>\n",
       "      <td>13.94</td>\n",
       "      <td>61.0</td>\n",
       "      <td>6.0032</td>\n",
       "      <td>1</td>\n",
       "      <td>0</td>\n",
       "    </tr>\n",
       "    <tr>\n",
       "      <th>575</th>\n",
       "      <td>576</td>\n",
       "      <td>12</td>\n",
       "      <td>23</td>\n",
       "      <td>13.12</td>\n",
       "      <td>66.0</td>\n",
       "      <td>8.9981</td>\n",
       "      <td>1</td>\n",
       "      <td>0</td>\n",
       "    </tr>\n",
       "  </tbody>\n",
       "</table>\n",
       "<p>576 rows × 8 columns</p>\n",
       "</div>"
      ],
      "text/plain": [
       "     index  month  hour  real_temp  humidity  windspeed  weather_condition_1  \\\n",
       "0        1      1     0      18.86      77.0    22.0028                    0   \n",
       "1        2      1     1      18.86      77.0    22.0028                    0   \n",
       "2        3      1     2      18.04      51.0    32.9975                    0   \n",
       "3        4      1     3      18.04      51.0    32.9975                    0   \n",
       "4        5      1     4      13.94      46.0    35.0008                    1   \n",
       "..     ...    ...   ...        ...       ...        ...                  ...   \n",
       "571    572     12    19      15.58      50.0    26.0027                    1   \n",
       "572    573     12    20      14.76      50.0    15.0013                    1   \n",
       "573    574     12    21      13.94      61.0    15.0013                    1   \n",
       "574    575     12    22      13.94      61.0     6.0032                    1   \n",
       "575    576     12    23      13.12      66.0     8.9981                    1   \n",
       "\n",
       "     weather_condition_2  \n",
       "0                      1  \n",
       "1                      1  \n",
       "2                      1  \n",
       "3                      1  \n",
       "4                      0  \n",
       "..                   ...  \n",
       "571                    0  \n",
       "572                    0  \n",
       "573                    0  \n",
       "574                    0  \n",
       "575                    0  \n",
       "\n",
       "[576 rows x 8 columns]"
      ]
     },
     "execution_count": 82,
     "metadata": {},
     "output_type": "execute_result"
    }
   ],
   "source": [
    "X_result = pd.concat([test['index'], X_test],axis=1)\n",
    "X_result"
   ]
  },
  {
   "cell_type": "code",
   "execution_count": 83,
   "metadata": {
    "execution": {
     "iopub.execute_input": "2023-04-10T08:10:40.080147Z",
     "iopub.status.busy": "2023-04-10T08:10:40.079726Z",
     "iopub.status.idle": "2023-04-10T08:10:40.094997Z",
     "shell.execute_reply": "2023-04-10T08:10:40.094009Z",
     "shell.execute_reply.started": "2023-04-10T08:10:40.08011Z"
    }
   },
   "outputs": [
    {
     "data": {
      "text/html": [
       "<div>\n",
       "<style scoped>\n",
       "    .dataframe tbody tr th:only-of-type {\n",
       "        vertical-align: middle;\n",
       "    }\n",
       "\n",
       "    .dataframe tbody tr th {\n",
       "        vertical-align: top;\n",
       "    }\n",
       "\n",
       "    .dataframe thead th {\n",
       "        text-align: right;\n",
       "    }\n",
       "</style>\n",
       "<table border=\"1\" class=\"dataframe\">\n",
       "  <thead>\n",
       "    <tr style=\"text-align: right;\">\n",
       "      <th></th>\n",
       "      <th>index</th>\n",
       "      <th>count</th>\n",
       "    </tr>\n",
       "  </thead>\n",
       "  <tbody>\n",
       "    <tr>\n",
       "      <th>0</th>\n",
       "      <td>1</td>\n",
       "      <td>59.134672</td>\n",
       "    </tr>\n",
       "    <tr>\n",
       "      <th>1</th>\n",
       "      <td>2</td>\n",
       "      <td>40.523781</td>\n",
       "    </tr>\n",
       "    <tr>\n",
       "      <th>2</th>\n",
       "      <td>3</td>\n",
       "      <td>19.652349</td>\n",
       "    </tr>\n",
       "    <tr>\n",
       "      <th>3</th>\n",
       "      <td>4</td>\n",
       "      <td>19.592769</td>\n",
       "    </tr>\n",
       "    <tr>\n",
       "      <th>4</th>\n",
       "      <td>5</td>\n",
       "      <td>19.592769</td>\n",
       "    </tr>\n",
       "    <tr>\n",
       "      <th>...</th>\n",
       "      <td>...</td>\n",
       "      <td>...</td>\n",
       "    </tr>\n",
       "    <tr>\n",
       "      <th>571</th>\n",
       "      <td>572</td>\n",
       "      <td>345.020945</td>\n",
       "    </tr>\n",
       "    <tr>\n",
       "      <th>572</th>\n",
       "      <td>573</td>\n",
       "      <td>239.846161</td>\n",
       "    </tr>\n",
       "    <tr>\n",
       "      <th>573</th>\n",
       "      <td>574</td>\n",
       "      <td>153.226330</td>\n",
       "    </tr>\n",
       "    <tr>\n",
       "      <th>574</th>\n",
       "      <td>575</td>\n",
       "      <td>122.675412</td>\n",
       "    </tr>\n",
       "    <tr>\n",
       "      <th>575</th>\n",
       "      <td>576</td>\n",
       "      <td>114.245280</td>\n",
       "    </tr>\n",
       "  </tbody>\n",
       "</table>\n",
       "<p>576 rows × 2 columns</p>\n",
       "</div>"
      ],
      "text/plain": [
       "     index       count\n",
       "0        1   59.134672\n",
       "1        2   40.523781\n",
       "2        3   19.652349\n",
       "3        4   19.592769\n",
       "4        5   19.592769\n",
       "..     ...         ...\n",
       "571    572  345.020945\n",
       "572    573  239.846161\n",
       "573    574  153.226330\n",
       "574    575  122.675412\n",
       "575    576  114.245280\n",
       "\n",
       "[576 rows x 2 columns]"
      ]
     },
     "execution_count": 83,
     "metadata": {},
     "output_type": "execute_result"
    }
   ],
   "source": [
    "sample_sub = pd.DataFrame({'index': X_result['index'], 'count': test_predicted})\n",
    "sample_sub"
   ]
  },
  {
   "cell_type": "code",
   "execution_count": 84,
   "metadata": {
    "execution": {
     "iopub.execute_input": "2023-04-10T08:10:45.019087Z",
     "iopub.status.busy": "2023-04-10T08:10:45.01871Z",
     "iopub.status.idle": "2023-04-10T08:10:45.030445Z",
     "shell.execute_reply": "2023-04-10T08:10:45.029023Z",
     "shell.execute_reply.started": "2023-04-10T08:10:45.019054Z"
    }
   },
   "outputs": [],
   "source": [
    "sample_sub.to_csv(\"submission.csv\", index=False)"
   ]
  }
 ],
 "metadata": {
  "kernelspec": {
   "display_name": "Python 3 (ipykernel)",
   "language": "python",
   "name": "python3"
  },
  "language_info": {
   "codemirror_mode": {
    "name": "ipython",
    "version": 3
   },
   "file_extension": ".py",
   "mimetype": "text/x-python",
   "name": "python",
   "nbconvert_exporter": "python",
   "pygments_lexer": "ipython3",
   "version": "3.9.12"
  }
 },
 "nbformat": 4,
 "nbformat_minor": 4
}
